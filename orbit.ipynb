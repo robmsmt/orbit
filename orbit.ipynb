{
 "cells": [
  {
   "cell_type": "markdown",
   "metadata": {},
   "source": [
    "## ORBIT\n",
    "\n",
    "\n",
    "### Getting started:\n",
    "\n",
    "\n",
    "0. Prereqs: Install cairo library\n",
    "On linux:\n",
    "`sudo apt-get install libcairo2-dev`\n",
    "\n",
    "1. Create a virtualenv:\n",
    "`virtualenv --python=python3 ~/venv/py36`\n",
    "\n",
    "2. Activate virtualenv:\n",
    "`source ~/venv/py36/bin/activate`\n",
    "\n",
    "3. Install packages\n",
    "`pip install imageio pycairo`\n",
    "\n"
   ]
  },
  {
   "cell_type": "code",
   "execution_count": 1,
   "metadata": {},
   "outputs": [],
   "source": [
    "import imageio\n",
    "import cairo \n",
    "import math\n",
    "import tempfile\n",
    "import os\n",
    "\n",
    "\n",
    "FRAME_COUNT = 150\n",
    "WIDTH = 800\n",
    "HEIGHT = 800"
   ]
  },
  {
   "cell_type": "code",
   "execution_count": 2,
   "metadata": {},
   "outputs": [],
   "source": [
    "\n",
    "class CelestialBody:\n",
    "    def __init__(self, radius, orbit_radius, orbit_center, fill, parent=None, pc=0, col=(1, 1, 1)):\n",
    "        self.radius = radius\n",
    "        self.orbit_radius = orbit_radius\n",
    "        self.orbit_center = orbit_center\n",
    "        self.parent_body = parent\n",
    "        self.phase = 0.0\n",
    "        self.phase_const = pc\n",
    "        self.fill = fill\n",
    "        self.col = col\n",
    "        self.update()\n",
    "\n",
    "    def update(self):\n",
    "        if self.parent_body is not None:\n",
    "            self.orbit_center = self.parent_body.center\n",
    "\n",
    "        self.center = (\n",
    "            self.orbit_center[0] + self.orbit_radius * math.cos(self.phase),\n",
    "            self.orbit_center[1] + self.orbit_radius * math.sin(self.phase))\n",
    "        \n",
    "    def set_phase(self, i):\n",
    "        self.phase = i * self.phase_const * math.pi / FRAME_COUNT\n",
    "        self.update()\n",
    "\n",
    "    def draw(self, context):\n",
    "        context.set_source_rgb(*self.col)\n",
    "        context.arc(*self.center, self.radius, 0, 2 * math.pi)\n",
    "        if self.fill:\n",
    "            context.fill()\n",
    "        else:\n",
    "            context.stroke()\n",
    "\n",
    "def clear_screen(context):\n",
    "    context.set_source_rgb(0, 0, 0)\n",
    "    context.rectangle(0, 0, WIDTH, HEIGHT)\n",
    "    context.fill()\n"
   ]
  },
  {
   "cell_type": "code",
   "execution_count": 3,
   "metadata": {},
   "outputs": [],
   "source": [
    "sun = CelestialBody(70, 0, (WIDTH//2, HEIGHT//2), True, None, 0, (1,1,1))\n",
    "\n",
    "planets = {\n",
    "    'earth' : CelestialBody(15,  200, (750, 500), True, sun, 3, (0.5,0.5,0.9)),\n",
    "    'jupiter' : CelestialBody(30,  300, (300, 300), True, sun, 1, (0.9,0.3,0.3))\n",
    "}\n",
    "\n",
    "moons = {\n",
    "    'moon':  CelestialBody(3, 25,  (750, 500), False, planets['earth'], 7, (1,1,1)) \n",
    "}\n",
    "\n",
    "bodies = {\n",
    "    'sun' : sun,\n",
    "    **planets, \n",
    "    **moons\n",
    "}"
   ]
  },
  {
   "cell_type": "code",
   "execution_count": 4,
   "metadata": {},
   "outputs": [],
   "source": [
    "images = []\n",
    "surface = cairo.ImageSurface(cairo.FORMAT_ARGB32, WIDTH, HEIGHT)\n",
    "context = cairo.Context(surface)\n",
    "\n",
    "\n",
    "\n",
    "for i in range(0, FRAME_COUNT):\n",
    "    clear_screen(context)\n",
    "\n",
    "    for _, body in bodies.items():\n",
    "        body.set_phase(i)\n",
    "        body.draw(context)\n",
    "\n",
    "    context.stroke()\n",
    "    temp_png = f\"/tmp/{i}.png\".format(i)\n",
    "    surface.write_to_png(temp_png)\n",
    "    images.append(imageio.imread(temp_png))\n",
    "    os.remove(temp_png)\n",
    "\n",
    "\n",
    "imageio.mimsave('planets.gif', images)"
   ]
  },
  {
   "cell_type": "code",
   "execution_count": 6,
   "metadata": {},
   "outputs": [
    {
     "data": {
      "text/html": [
       "<img src=\"planets.gif\" width=\"800\" height=\"800\"/>"
      ],
      "text/plain": [
       "<IPython.core.display.Image object>"
      ]
     },
     "execution_count": 6,
     "metadata": {},
     "output_type": "execute_result"
    }
   ],
   "source": [
    "# jupyter notebook only...\n",
    "\n",
    "from IPython.core.display import HTML, Image\n",
    "Image(url=\"planets.gif\", width=800, height=800)"
   ]
  },
  {
   "cell_type": "code",
   "execution_count": null,
   "metadata": {},
   "outputs": [],
   "source": []
  }
 ],
 "metadata": {
  "kernelspec": {
   "display_name": "Python 3",
   "language": "python",
   "name": "python3"
  },
  "language_info": {
   "codemirror_mode": {
    "name": "ipython",
    "version": 3
   },
   "file_extension": ".py",
   "mimetype": "text/x-python",
   "name": "python",
   "nbconvert_exporter": "python",
   "pygments_lexer": "ipython3",
   "version": "3.6.5"
  }
 },
 "nbformat": 4,
 "nbformat_minor": 2
}
